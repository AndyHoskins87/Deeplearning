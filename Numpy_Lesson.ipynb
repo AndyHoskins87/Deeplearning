{
  "cells": [
    {
      "cell_type": "markdown",
      "metadata": {
        "id": "view-in-github",
        "colab_type": "text"
      },
      "source": [
        "<a href=\"https://colab.research.google.com/github/AndyHoskins87/Deeplearning/blob/main/Numpy_Lesson.ipynb\" target=\"_parent\"><img src=\"https://colab.research.google.com/assets/colab-badge.svg\" alt=\"Open In Colab\"/></a>"
      ]
    },
    {
      "cell_type": "markdown",
      "id": "df4678d7",
      "metadata": {
        "id": "df4678d7"
      },
      "source": [
        "## What does this notebook cover?\n",
        "The NumPy library is very capable. However, learning everything off by heart isn't necessary. Instead, this notebook focuses on the main concepts of NumPy and the ndarray datatype.\n",
        "\n",
        "You can think of the ndarray datatype as a very flexible array of numbers.\n",
        "\n",
        "* NumPy datatypes & attributes\n",
        "* Creating arrays\n",
        "* Viewing arrays & matrices (indexing)\n",
        "* Manipulating & comparing arrays\n",
        "* Sorting arrays\n",
        "* Use cases (examples of turning things into numbers)"
      ]
    },
    {
      "cell_type": "code",
      "execution_count": null,
      "id": "7149342d",
      "metadata": {
        "id": "7149342d"
      },
      "outputs": [],
      "source": [
        "import numpy as np\n",
        "import pandas as pd"
      ]
    },
    {
      "cell_type": "markdown",
      "id": "25c4201d",
      "metadata": {
        "id": "25c4201d"
      },
      "source": [
        "# Data Types & Attributes "
      ]
    },
    {
      "cell_type": "markdown",
      "id": "869b0650",
      "metadata": {
        "id": "869b0650"
      },
      "source": [
        "Numpy's main datatype is ndarray\n",
        "\n",
        "Key terms:\n",
        "* **Array** - A list of numbers, can be multi-dimensional.\n",
        "* **Scalar** - A single number (e.g. `7`).\n",
        "* **Vector** - A list of numbers with 1-dimesion (e.g. `np.array([1, 2, 3])`).\n",
        "* **Matrix** - A (usually) multi-deminsional list of numbers (e.g. `np.array([[1, 2, 3], [4, 5, 6]])`)."
      ]
    },
    {
      "cell_type": "code",
      "execution_count": null,
      "id": "1be5082c",
      "metadata": {
        "id": "1be5082c",
        "outputId": "26bac714-2ff9-49f0-e1df-6dbb1c9619ba"
      },
      "outputs": [
        {
          "data": {
            "text/plain": [
              "array([1, 2, 3])"
            ]
          },
          "execution_count": 2,
          "metadata": {},
          "output_type": "execute_result"
        }
      ],
      "source": [
        "a1 = np.array([1,2,3])\n",
        "a1"
      ]
    },
    {
      "cell_type": "code",
      "execution_count": null,
      "id": "69b0ea1f",
      "metadata": {
        "id": "69b0ea1f",
        "outputId": "35d0b338-13d7-4d5a-9b18-bcfb17401415"
      },
      "outputs": [
        {
          "data": {
            "text/plain": [
              "numpy.ndarray"
            ]
          },
          "execution_count": 4,
          "metadata": {},
          "output_type": "execute_result"
        }
      ],
      "source": [
        "type(a1)"
      ]
    },
    {
      "cell_type": "code",
      "execution_count": null,
      "id": "34934712",
      "metadata": {
        "id": "34934712"
      },
      "outputs": [],
      "source": [
        "a2 = np.array([[1,2,3], [4.1,5.7,6]])\n",
        "a3 = np.array([[[1,2,3],\n",
        "               [4,5,6],\n",
        "               [7,8,9]],\n",
        "               \n",
        "               [[10, 11, 12],\n",
        "               [13,14,15],\n",
        "               [16,17,18]]])"
      ]
    },
    {
      "cell_type": "code",
      "execution_count": null,
      "id": "24df42fc",
      "metadata": {
        "id": "24df42fc",
        "outputId": "cfc621fb-aa3c-45b1-9ff0-2b81996801e7"
      },
      "outputs": [
        {
          "data": {
            "text/plain": [
              "array([[1. , 2. , 3. ],\n",
              "       [4.1, 5.7, 6. ]])"
            ]
          },
          "execution_count": 5,
          "metadata": {},
          "output_type": "execute_result"
        }
      ],
      "source": [
        "a2"
      ]
    },
    {
      "cell_type": "code",
      "execution_count": null,
      "id": "4f952025",
      "metadata": {
        "id": "4f952025",
        "outputId": "d2275f99-8980-42b2-ca13-b11b7ac44163"
      },
      "outputs": [
        {
          "data": {
            "text/plain": [
              "array([[[ 1,  2,  3],\n",
              "        [ 4,  5,  6],\n",
              "        [ 7,  8,  9]],\n",
              "\n",
              "       [[10, 11, 12],\n",
              "        [13, 14, 15],\n",
              "        [16, 17, 18]]])"
            ]
          },
          "execution_count": 6,
          "metadata": {},
          "output_type": "execute_result"
        }
      ],
      "source": [
        "a3"
      ]
    },
    {
      "cell_type": "code",
      "execution_count": null,
      "id": "ebbeceba",
      "metadata": {
        "id": "ebbeceba",
        "outputId": "7db00794-b7dc-4367-e1af-097bc9fbbc36"
      },
      "outputs": [
        {
          "data": {
            "text/plain": [
              "(3,)"
            ]
          },
          "execution_count": 12,
          "metadata": {},
          "output_type": "execute_result"
        }
      ],
      "source": [
        "a1.shape"
      ]
    },
    {
      "cell_type": "code",
      "execution_count": null,
      "id": "ea4094c9",
      "metadata": {
        "id": "ea4094c9",
        "outputId": "248efdd9-cf69-42d0-e82e-41778b6150fe"
      },
      "outputs": [
        {
          "data": {
            "text/plain": [
              "(2, 3)"
            ]
          },
          "execution_count": 13,
          "metadata": {},
          "output_type": "execute_result"
        }
      ],
      "source": [
        "a2.shape"
      ]
    },
    {
      "cell_type": "code",
      "execution_count": null,
      "id": "f5452d6d",
      "metadata": {
        "id": "f5452d6d",
        "outputId": "fa17b280-4988-4a5b-d80c-942579cad87f"
      },
      "outputs": [
        {
          "data": {
            "text/plain": [
              "(1, 6, 3)"
            ]
          },
          "execution_count": 14,
          "metadata": {},
          "output_type": "execute_result"
        }
      ],
      "source": [
        "a3.shape"
      ]
    },
    {
      "cell_type": "code",
      "execution_count": null,
      "id": "a48a23ba",
      "metadata": {
        "id": "a48a23ba",
        "outputId": "0af7c328-18da-4bd7-c466-926897b381f8"
      },
      "outputs": [
        {
          "data": {
            "text/plain": [
              "(1, 2, 3)"
            ]
          },
          "execution_count": 16,
          "metadata": {},
          "output_type": "execute_result"
        }
      ],
      "source": [
        "a1.ndim, a2.ndim, a3.ndim"
      ]
    },
    {
      "cell_type": "code",
      "execution_count": null,
      "id": "a4cb1ca4",
      "metadata": {
        "id": "a4cb1ca4",
        "outputId": "20daae12-f865-467f-a374-a16fcd5e9b59"
      },
      "outputs": [
        {
          "data": {
            "text/plain": [
              "(dtype('int64'), dtype('float64'), dtype('int64'))"
            ]
          },
          "execution_count": 19,
          "metadata": {},
          "output_type": "execute_result"
        }
      ],
      "source": [
        "a1.dtype, a2.dtype, a3.dtype"
      ]
    },
    {
      "cell_type": "code",
      "execution_count": null,
      "id": "098e3342",
      "metadata": {
        "id": "098e3342",
        "outputId": "ce2c97f2-f412-44b1-8597-8abcdefb7892"
      },
      "outputs": [
        {
          "data": {
            "text/plain": [
              "(3, 6, 18)"
            ]
          },
          "execution_count": 21,
          "metadata": {},
          "output_type": "execute_result"
        }
      ],
      "source": [
        "a1.size, a2.size, a3.size"
      ]
    },
    {
      "cell_type": "code",
      "execution_count": null,
      "id": "1c86bf40",
      "metadata": {
        "id": "1c86bf40",
        "outputId": "e5c70f4d-b116-437e-8da3-262b12e2314d"
      },
      "outputs": [
        {
          "data": {
            "text/plain": [
              "(numpy.ndarray, numpy.ndarray, numpy.ndarray)"
            ]
          },
          "execution_count": 22,
          "metadata": {},
          "output_type": "execute_result"
        }
      ],
      "source": [
        "type(a1), type(a2), type(a3)"
      ]
    },
    {
      "cell_type": "markdown",
      "id": "74214821",
      "metadata": {
        "id": "74214821"
      },
      "source": [
        "Create a DataFrame from a Numpy Array"
      ]
    },
    {
      "cell_type": "code",
      "execution_count": null,
      "id": "efee51e8",
      "metadata": {
        "id": "efee51e8"
      },
      "outputs": [],
      "source": [
        "import pandas as pd\n",
        "\n",
        "df = pd.DataFrame(a2)"
      ]
    },
    {
      "cell_type": "code",
      "execution_count": null,
      "id": "88a31243",
      "metadata": {
        "id": "88a31243",
        "outputId": "f8f64740-4694-43ee-8d5e-ceb90e0d4ea3"
      },
      "outputs": [
        {
          "data": {
            "text/html": [
              "<div>\n",
              "<style scoped>\n",
              "    .dataframe tbody tr th:only-of-type {\n",
              "        vertical-align: middle;\n",
              "    }\n",
              "\n",
              "    .dataframe tbody tr th {\n",
              "        vertical-align: top;\n",
              "    }\n",
              "\n",
              "    .dataframe thead th {\n",
              "        text-align: right;\n",
              "    }\n",
              "</style>\n",
              "<table border=\"1\" class=\"dataframe\">\n",
              "  <thead>\n",
              "    <tr style=\"text-align: right;\">\n",
              "      <th></th>\n",
              "      <th>0</th>\n",
              "      <th>1</th>\n",
              "      <th>2</th>\n",
              "    </tr>\n",
              "  </thead>\n",
              "  <tbody>\n",
              "    <tr>\n",
              "      <th>0</th>\n",
              "      <td>1.0</td>\n",
              "      <td>2.0</td>\n",
              "      <td>3.0</td>\n",
              "    </tr>\n",
              "    <tr>\n",
              "      <th>1</th>\n",
              "      <td>4.1</td>\n",
              "      <td>5.7</td>\n",
              "      <td>6.0</td>\n",
              "    </tr>\n",
              "  </tbody>\n",
              "</table>\n",
              "</div>"
            ],
            "text/plain": [
              "     0    1    2\n",
              "0  1.0  2.0  3.0\n",
              "1  4.1  5.7  6.0"
            ]
          },
          "execution_count": 24,
          "metadata": {},
          "output_type": "execute_result"
        }
      ],
      "source": [
        "df"
      ]
    },
    {
      "cell_type": "markdown",
      "id": "7205416e",
      "metadata": {
        "id": "7205416e"
      },
      "source": [
        "## 2. Creating arrays\n",
        "\n",
        "* `np.array()`\n",
        "* `np.ones()`\n",
        "* `np.zeros()`\n",
        "* `np.random.rand(5, 3)`\n",
        "* `np.random.randint(10, size=5)`\n",
        "* `np.random.seed()` - pseudo random numbers\n",
        "* Searching the documentation example (finding `np.unique()` and using it)"
      ]
    },
    {
      "cell_type": "code",
      "execution_count": null,
      "id": "18c9ca2a",
      "metadata": {
        "id": "18c9ca2a",
        "outputId": "0ba6562d-8fc4-4ae5-99e4-3e4c2f2ce2d0"
      },
      "outputs": [
        {
          "data": {
            "text/plain": [
              "array([1, 2, 3])"
            ]
          },
          "execution_count": 4,
          "metadata": {},
          "output_type": "execute_result"
        }
      ],
      "source": [
        "sample_array = np.array([1,2,3])\n",
        "sample_array"
      ]
    },
    {
      "cell_type": "code",
      "execution_count": null,
      "id": "225933e8",
      "metadata": {
        "id": "225933e8",
        "outputId": "5d78a9c0-b71c-4263-fae0-73295d67ed9f"
      },
      "outputs": [
        {
          "data": {
            "text/plain": [
              "dtype('int64')"
            ]
          },
          "execution_count": 4,
          "metadata": {},
          "output_type": "execute_result"
        }
      ],
      "source": [
        "sample_array.dtype"
      ]
    },
    {
      "cell_type": "code",
      "execution_count": null,
      "id": "bc889895",
      "metadata": {
        "id": "bc889895"
      },
      "outputs": [],
      "source": [
        "ones = np.ones((2,3))"
      ]
    },
    {
      "cell_type": "code",
      "execution_count": null,
      "id": "a9ffb85d",
      "metadata": {
        "id": "a9ffb85d",
        "outputId": "b1f2da52-6151-426e-9659-3df693b60479"
      },
      "outputs": [
        {
          "data": {
            "text/plain": [
              "array([[1., 1., 1.],\n",
              "       [1., 1., 1.]])"
            ]
          },
          "execution_count": 6,
          "metadata": {},
          "output_type": "execute_result"
        }
      ],
      "source": [
        "ones"
      ]
    },
    {
      "cell_type": "code",
      "execution_count": null,
      "id": "c05bba90",
      "metadata": {
        "id": "c05bba90",
        "outputId": "13a8b7ac-04af-4c1d-a996-712c5cf39dbe"
      },
      "outputs": [
        {
          "data": {
            "text/plain": [
              "dtype('float64')"
            ]
          },
          "execution_count": 7,
          "metadata": {},
          "output_type": "execute_result"
        }
      ],
      "source": [
        "ones.dtype"
      ]
    },
    {
      "cell_type": "code",
      "execution_count": null,
      "id": "1313510c",
      "metadata": {
        "id": "1313510c",
        "outputId": "a9de3b4d-7999-4416-e667-a2b22c85268e"
      },
      "outputs": [
        {
          "data": {
            "text/plain": [
              "numpy.ndarray"
            ]
          },
          "execution_count": 8,
          "metadata": {},
          "output_type": "execute_result"
        }
      ],
      "source": [
        "type(ones)"
      ]
    },
    {
      "cell_type": "code",
      "execution_count": null,
      "id": "099a2204",
      "metadata": {
        "id": "099a2204"
      },
      "outputs": [],
      "source": [
        "zeros = np.zeros((2,3))"
      ]
    },
    {
      "cell_type": "code",
      "execution_count": null,
      "id": "27fd9aba",
      "metadata": {
        "id": "27fd9aba",
        "outputId": "481c6959-aab1-4800-8d10-403473d5594c"
      },
      "outputs": [
        {
          "data": {
            "text/plain": [
              "array([[0., 0., 0.],\n",
              "       [0., 0., 0.]])"
            ]
          },
          "execution_count": 10,
          "metadata": {},
          "output_type": "execute_result"
        }
      ],
      "source": [
        "zeros"
      ]
    },
    {
      "cell_type": "code",
      "execution_count": null,
      "id": "22d89328",
      "metadata": {
        "id": "22d89328",
        "outputId": "4eea3579-d2bb-4eec-d491-2fcfa092548c"
      },
      "outputs": [
        {
          "data": {
            "text/plain": [
              "array([0, 2, 4, 6, 8])"
            ]
          },
          "execution_count": 11,
          "metadata": {},
          "output_type": "execute_result"
        }
      ],
      "source": [
        "range_array = np.arange(0, 10, 2)\n",
        "range_array"
      ]
    },
    {
      "cell_type": "code",
      "execution_count": null,
      "id": "28af6a73",
      "metadata": {
        "id": "28af6a73",
        "outputId": "29aa8006-f6b8-4a54-fc33-c5663df948e5"
      },
      "outputs": [
        {
          "data": {
            "text/plain": [
              "array([[4, 6, 0, 9, 4],\n",
              "       [8, 5, 4, 0, 9],\n",
              "       [5, 8, 7, 7, 8]])"
            ]
          },
          "execution_count": 7,
          "metadata": {},
          "output_type": "execute_result"
        }
      ],
      "source": [
        "random_array = np.random.randint(0, 10, size=(3, 5))\n",
        "random_array"
      ]
    },
    {
      "cell_type": "code",
      "execution_count": null,
      "id": "e959c841",
      "metadata": {
        "id": "e959c841",
        "outputId": "b5bbcb99-9911-4f93-e3f3-92ad59c05ccb"
      },
      "outputs": [
        {
          "data": {
            "text/plain": [
              "15"
            ]
          },
          "execution_count": 15,
          "metadata": {},
          "output_type": "execute_result"
        }
      ],
      "source": [
        "random_array.size"
      ]
    },
    {
      "cell_type": "code",
      "execution_count": null,
      "id": "36a90a70",
      "metadata": {
        "id": "36a90a70",
        "outputId": "0c41269d-8e96-439b-8182-721d91616bc9"
      },
      "outputs": [
        {
          "data": {
            "text/plain": [
              "(3, 5)"
            ]
          },
          "execution_count": 16,
          "metadata": {},
          "output_type": "execute_result"
        }
      ],
      "source": [
        "random_array.shape"
      ]
    },
    {
      "cell_type": "code",
      "execution_count": null,
      "id": "59223671",
      "metadata": {
        "id": "59223671",
        "outputId": "c32644e6-469e-44e8-bb32-5f5986705e32"
      },
      "outputs": [
        {
          "data": {
            "text/plain": [
              "array([[0.55440632, 0.16709027, 0.938297  ],\n",
              "       [0.60499858, 0.683849  , 0.92408018],\n",
              "       [0.58477583, 0.75557726, 0.72058964],\n",
              "       [0.60560843, 0.45102519, 0.12758322],\n",
              "       [0.31349391, 0.89914328, 0.28772529]])"
            ]
          },
          "execution_count": 8,
          "metadata": {},
          "output_type": "execute_result"
        }
      ],
      "source": [
        "random_array_2 = np.random.random((5, 3))\n",
        "random_array_2"
      ]
    },
    {
      "cell_type": "code",
      "execution_count": null,
      "id": "7df0adbf",
      "metadata": {
        "id": "7df0adbf",
        "outputId": "dfa60b35-c2bd-4051-87bd-d5a4d4f73cbd"
      },
      "outputs": [
        {
          "data": {
            "text/plain": [
              "array([[0.62074484, 0.78380701, 0.26833656],\n",
              "       [0.19856578, 0.53389731, 0.86586325],\n",
              "       [0.76979036, 0.68402275, 0.86886387],\n",
              "       [0.16251872, 0.05046135, 0.90905018],\n",
              "       [0.39453466, 0.40675516, 0.86794415]])"
            ]
          },
          "execution_count": 9,
          "metadata": {},
          "output_type": "execute_result"
        }
      ],
      "source": [
        "random_array_3 = np.random.rand(5, 3)\n",
        "random_array_3"
      ]
    },
    {
      "cell_type": "markdown",
      "id": "f41d1993",
      "metadata": {
        "id": "f41d1993"
      },
      "source": [
        "NumPy uses pseudo-random numbers, which means, the numbers look random but aren't really, they're predetermined.\n",
        "\n",
        "For consistency, you might want to keep the random numbers you generate similar throughout experiments.\n",
        "\n",
        "To do this, you can use np.random.seed()."
      ]
    },
    {
      "cell_type": "code",
      "execution_count": null,
      "id": "229edb30",
      "metadata": {
        "id": "229edb30",
        "outputId": "26d8e1ce-9820-441b-880c-5eca077e95f7"
      },
      "outputs": [
        {
          "data": {
            "text/plain": [
              "array([[9, 4, 0],\n",
              "       [1, 9, 0],\n",
              "       [1, 8, 9],\n",
              "       [0, 8, 6],\n",
              "       [4, 3, 0]])"
            ]
          },
          "execution_count": 10,
          "metadata": {},
          "output_type": "execute_result"
        }
      ],
      "source": [
        "# Pseudo-random numbers\n",
        "np.random.seed(seed=10)\n",
        "\n",
        "random_array_4 = np.random.randint(10, size=(5, 3))\n",
        "random_array_4"
      ]
    },
    {
      "cell_type": "code",
      "execution_count": null,
      "id": "acac79d5",
      "metadata": {
        "id": "acac79d5",
        "outputId": "f1f4fa85-5bc5-4494-a8a0-da68cfb6278e"
      },
      "outputs": [
        {
          "data": {
            "text/plain": [
              "array([[0.77132064, 0.02075195, 0.63364823],\n",
              "       [0.74880388, 0.49850701, 0.22479665],\n",
              "       [0.19806286, 0.76053071, 0.16911084],\n",
              "       [0.08833981, 0.68535982, 0.95339335],\n",
              "       [0.00394827, 0.51219226, 0.81262096]])"
            ]
          },
          "execution_count": 11,
          "metadata": {},
          "output_type": "execute_result"
        }
      ],
      "source": [
        "np.random.seed(10)\n",
        "random_array_5 = np.random.random((5, 3))\n",
        "random_array_5"
      ]
    },
    {
      "cell_type": "markdown",
      "id": "5ef3366d",
      "metadata": {
        "id": "5ef3366d"
      },
      "source": [
        "## Viewing Arrays and Matrices"
      ]
    },
    {
      "cell_type": "code",
      "execution_count": null,
      "id": "51f7ca71",
      "metadata": {
        "id": "51f7ca71",
        "outputId": "2c393f69-f808-450d-f39b-47bfeaf313a3"
      },
      "outputs": [
        {
          "data": {
            "text/plain": [
              "array([0, 1, 3, 4, 6, 8, 9])"
            ]
          },
          "execution_count": 40,
          "metadata": {},
          "output_type": "execute_result"
        }
      ],
      "source": [
        "np.unique(random_array_4)"
      ]
    },
    {
      "cell_type": "code",
      "execution_count": null,
      "id": "ab245b0a",
      "metadata": {
        "id": "ab245b0a",
        "outputId": "a51a33cb-f767-4df9-9de4-945a7c3b2c0f"
      },
      "outputs": [
        {
          "data": {
            "text/plain": [
              "array([1, 2, 3])"
            ]
          },
          "execution_count": 44,
          "metadata": {},
          "output_type": "execute_result"
        }
      ],
      "source": [
        "a1"
      ]
    },
    {
      "cell_type": "code",
      "execution_count": null,
      "id": "9794a45e",
      "metadata": {
        "id": "9794a45e",
        "outputId": "c231f366-e9b7-4427-8ac0-4c4478483ec5"
      },
      "outputs": [
        {
          "data": {
            "text/plain": [
              "array([[1. , 2. , 3. ],\n",
              "       [4.1, 5.7, 6. ]])"
            ]
          },
          "execution_count": 45,
          "metadata": {},
          "output_type": "execute_result"
        }
      ],
      "source": [
        "a2"
      ]
    },
    {
      "cell_type": "code",
      "execution_count": null,
      "id": "1c769402",
      "metadata": {
        "id": "1c769402",
        "outputId": "e26542ce-68b9-4da2-f006-035dd94096be"
      },
      "outputs": [
        {
          "data": {
            "text/plain": [
              "array([[[ 1,  2,  3],\n",
              "        [ 4,  5,  6],\n",
              "        [ 7,  8,  9],\n",
              "        [10, 11, 12],\n",
              "        [13, 14, 15],\n",
              "        [16, 17, 18]]])"
            ]
          },
          "execution_count": 46,
          "metadata": {},
          "output_type": "execute_result"
        }
      ],
      "source": [
        "a3"
      ]
    },
    {
      "cell_type": "code",
      "execution_count": null,
      "id": "b86e1969",
      "metadata": {
        "id": "b86e1969",
        "outputId": "2ae239ca-30c5-4f17-ad5d-372a49764115"
      },
      "outputs": [
        {
          "data": {
            "text/plain": [
              "1"
            ]
          },
          "execution_count": 47,
          "metadata": {},
          "output_type": "execute_result"
        }
      ],
      "source": [
        "a1[0]"
      ]
    },
    {
      "cell_type": "code",
      "execution_count": null,
      "id": "a908e66c",
      "metadata": {
        "id": "a908e66c",
        "outputId": "78db48b1-72da-4b9a-a51d-8a96e4e5a0b2"
      },
      "outputs": [
        {
          "data": {
            "text/plain": [
              "array([1., 2., 3.])"
            ]
          },
          "execution_count": 48,
          "metadata": {},
          "output_type": "execute_result"
        }
      ],
      "source": [
        "a2[0]"
      ]
    },
    {
      "cell_type": "code",
      "execution_count": null,
      "id": "9ea4c50e",
      "metadata": {
        "id": "9ea4c50e",
        "outputId": "4cbb6725-3d53-4885-98c3-bc96efdbdf31"
      },
      "outputs": [
        {
          "data": {
            "text/plain": [
              "array([[ 1,  2,  3],\n",
              "       [ 4,  5,  6],\n",
              "       [ 7,  8,  9],\n",
              "       [10, 11, 12],\n",
              "       [13, 14, 15],\n",
              "       [16, 17, 18]])"
            ]
          },
          "execution_count": 49,
          "metadata": {},
          "output_type": "execute_result"
        }
      ],
      "source": [
        "a3[0]"
      ]
    },
    {
      "cell_type": "code",
      "execution_count": null,
      "id": "578f3d43",
      "metadata": {
        "id": "578f3d43",
        "outputId": "3613280e-ea75-480f-fed4-cbfac654f513"
      },
      "outputs": [
        {
          "data": {
            "text/plain": [
              "array([[[1, 2],\n",
              "        [4, 5]]])"
            ]
          },
          "execution_count": 50,
          "metadata": {},
          "output_type": "execute_result"
        }
      ],
      "source": [
        "a3[:2, :2, :2]"
      ]
    },
    {
      "cell_type": "code",
      "execution_count": null,
      "id": "f2dbdd1d",
      "metadata": {
        "id": "f2dbdd1d",
        "outputId": "71ec7cc2-b421-46f2-de6c-94eb709988ec"
      },
      "outputs": [
        {
          "data": {
            "text/plain": [
              "(1, 6, 3)"
            ]
          },
          "execution_count": 51,
          "metadata": {},
          "output_type": "execute_result"
        }
      ],
      "source": [
        "a3.shape"
      ]
    },
    {
      "cell_type": "code",
      "execution_count": null,
      "id": "7a5c6078",
      "metadata": {
        "id": "7a5c6078",
        "outputId": "80042b18-0c2d-4212-9bea-4d7697bdec61"
      },
      "outputs": [
        {
          "data": {
            "text/plain": [
              "array([[[[1, 8, 4, 1, 3],\n",
              "         [6, 5, 3, 9, 6],\n",
              "         [9, 1, 9, 4, 2],\n",
              "         [6, 7, 8, 8, 9]],\n",
              "\n",
              "        [[2, 0, 6, 7, 8],\n",
              "         [1, 7, 1, 4, 0],\n",
              "         [8, 5, 4, 7, 8],\n",
              "         [8, 2, 6, 2, 8]],\n",
              "\n",
              "        [[8, 6, 6, 5, 6],\n",
              "         [0, 0, 6, 9, 1],\n",
              "         [8, 9, 1, 2, 8],\n",
              "         [9, 9, 5, 0, 2]]],\n",
              "\n",
              "\n",
              "       [[[7, 3, 0, 4, 2],\n",
              "         [0, 3, 3, 1, 2],\n",
              "         [5, 9, 0, 1, 0],\n",
              "         [1, 9, 0, 9, 2]],\n",
              "\n",
              "        [[1, 1, 0, 0, 5],\n",
              "         [9, 0, 4, 6, 6],\n",
              "         [0, 2, 3, 3, 2],\n",
              "         [6, 0, 5, 1, 3]],\n",
              "\n",
              "        [[6, 5, 5, 1, 8],\n",
              "         [0, 5, 9, 8, 5],\n",
              "         [7, 8, 5, 8, 9],\n",
              "         [9, 1, 5, 9, 1]]]])"
            ]
          },
          "execution_count": 12,
          "metadata": {},
          "output_type": "execute_result"
        }
      ],
      "source": [
        "a4 = np.random.randint(10, size=(2, 3, 4, 5))\n",
        "a4"
      ]
    },
    {
      "cell_type": "code",
      "execution_count": null,
      "id": "7b0b5abc",
      "metadata": {
        "id": "7b0b5abc",
        "outputId": "728077a6-07d5-48da-a487-e88459050d9a"
      },
      "outputs": [
        {
          "data": {
            "text/plain": [
              "(2, 3, 4, 5)"
            ]
          },
          "execution_count": 53,
          "metadata": {},
          "output_type": "execute_result"
        }
      ],
      "source": [
        "a4.shape"
      ]
    },
    {
      "cell_type": "code",
      "execution_count": null,
      "id": "1a58630e",
      "metadata": {
        "id": "1a58630e",
        "outputId": "78a5acd7-174c-4dbf-81fa-6525f30a82ff"
      },
      "outputs": [
        {
          "data": {
            "text/plain": [
              "array([[[[1],\n",
              "         [6],\n",
              "         [9],\n",
              "         [6]],\n",
              "\n",
              "        [[2],\n",
              "         [1],\n",
              "         [8],\n",
              "         [8]],\n",
              "\n",
              "        [[8],\n",
              "         [0],\n",
              "         [8],\n",
              "         [9]]],\n",
              "\n",
              "\n",
              "       [[[7],\n",
              "         [0],\n",
              "         [5],\n",
              "         [1]],\n",
              "\n",
              "        [[1],\n",
              "         [9],\n",
              "         [0],\n",
              "         [6]],\n",
              "\n",
              "        [[6],\n",
              "         [0],\n",
              "         [7],\n",
              "         [9]]]])"
            ]
          },
          "execution_count": 61,
          "metadata": {},
          "output_type": "execute_result"
        }
      ],
      "source": [
        "a4[:, :, :, :1]"
      ]
    },
    {
      "cell_type": "markdown",
      "id": "765dbd21",
      "metadata": {
        "id": "765dbd21"
      },
      "source": [
        "## 4. Manipulating and comparying arrays\n",
        "* Arithmetic\n",
        "    * `+`, `-`, `*`, `/`, `//`, `**`, `%`\n",
        "    * `np.exp()`\n",
        "    * `np.log()`\n",
        "    * [Dot product](https://www.mathsisfun.com/algebra/matrix-multiplying.html) - `np.dot()`\n",
        "    * Broadcasting\n",
        "* Aggregation\n",
        "    * `np.sum()` - faster than `.sum()`, make demo, np is really fast\n",
        "    * `np.mean()`\n",
        "    * `np.std()`\n",
        "    * `np.var()`\n",
        "    * `np.min()`\n",
        "    * `np.max()`\n",
        "    * `np.argmin()` - find index of minimum value\n",
        "    * `np.argmax()` - find index of maximum value\n",
        "    * These work on all `ndarray`'s\n",
        "        * `a4.min(axis=0)` -- you can use axis as well\n",
        "* Reshaping\n",
        "    * `np.reshape()`\n",
        "* Transposing\n",
        "    * `a3.T` \n",
        "* Comparison operators\n",
        "    * `>`\n",
        "    * `<`\n",
        "    * `<=`\n",
        "    * `>=`\n",
        "    * `x != 3`\n",
        "    * `x == 3`\n",
        "    * `np.sum(x > 3)`"
      ]
    },
    {
      "cell_type": "code",
      "execution_count": null,
      "id": "fbdee83a",
      "metadata": {
        "id": "fbdee83a",
        "outputId": "2688f97a-005a-4d2e-e5aa-cb2936e961ad"
      },
      "outputs": [
        {
          "data": {
            "text/plain": [
              "array([[1., 1., 1.],\n",
              "       [1., 1., 1.]])"
            ]
          },
          "execution_count": 64,
          "metadata": {},
          "output_type": "execute_result"
        }
      ],
      "source": [
        "ones"
      ]
    },
    {
      "cell_type": "code",
      "execution_count": null,
      "id": "2db82ecd",
      "metadata": {
        "id": "2db82ecd",
        "outputId": "915ecdc3-45b9-4398-c22f-5a109c9c7e97"
      },
      "outputs": [
        {
          "data": {
            "text/plain": [
              "array([1, 2, 3])"
            ]
          },
          "execution_count": 63,
          "metadata": {},
          "output_type": "execute_result"
        }
      ],
      "source": [
        "a1"
      ]
    },
    {
      "cell_type": "code",
      "execution_count": null,
      "id": "db86cd46",
      "metadata": {
        "id": "db86cd46",
        "outputId": "e25f2cd1-1567-40a5-ce26-70e43053f25e"
      },
      "outputs": [
        {
          "data": {
            "text/plain": [
              "array([[2., 3., 4.],\n",
              "       [2., 3., 4.]])"
            ]
          },
          "execution_count": 65,
          "metadata": {},
          "output_type": "execute_result"
        }
      ],
      "source": [
        "a1 + ones"
      ]
    },
    {
      "cell_type": "code",
      "execution_count": null,
      "id": "5f8434e9",
      "metadata": {
        "id": "5f8434e9",
        "outputId": "811fcade-46b8-4b5e-9ed7-0e41f3de1cca"
      },
      "outputs": [
        {
          "data": {
            "text/plain": [
              "array([[0., 1., 2.],\n",
              "       [0., 1., 2.]])"
            ]
          },
          "execution_count": 66,
          "metadata": {},
          "output_type": "execute_result"
        }
      ],
      "source": [
        "a1 - ones"
      ]
    },
    {
      "cell_type": "code",
      "execution_count": null,
      "id": "05e81648",
      "metadata": {
        "id": "05e81648",
        "outputId": "85867989-83b4-495f-d8cd-54c34caaf5c3"
      },
      "outputs": [
        {
          "data": {
            "text/plain": [
              "array([[1., 2., 3.],\n",
              "       [1., 2., 3.]])"
            ]
          },
          "execution_count": 67,
          "metadata": {},
          "output_type": "execute_result"
        }
      ],
      "source": [
        "a1 * ones"
      ]
    },
    {
      "cell_type": "code",
      "execution_count": null,
      "id": "4d21fed9",
      "metadata": {
        "id": "4d21fed9",
        "outputId": "6f1877b9-afa0-489f-d164-ffa122dfdc2a"
      },
      "outputs": [
        {
          "data": {
            "text/plain": [
              "array([[1. , 2. , 3. ],\n",
              "       [4.1, 5.7, 6. ]])"
            ]
          },
          "execution_count": 68,
          "metadata": {},
          "output_type": "execute_result"
        }
      ],
      "source": [
        "a2"
      ]
    },
    {
      "cell_type": "code",
      "execution_count": null,
      "id": "568fdb9c",
      "metadata": {
        "id": "568fdb9c",
        "outputId": "f3deabad-a3d3-4ebf-e508-0b464c9a4dac"
      },
      "outputs": [
        {
          "data": {
            "text/plain": [
              "array([[ 1. ,  4. ,  9. ],\n",
              "       [ 4.1, 11.4, 18. ]])"
            ]
          },
          "execution_count": 69,
          "metadata": {},
          "output_type": "execute_result"
        }
      ],
      "source": [
        "a1 * a2"
      ]
    },
    {
      "cell_type": "code",
      "execution_count": null,
      "id": "6170bfff",
      "metadata": {
        "id": "6170bfff",
        "outputId": "e6d924de-fdb0-4df4-c941-e205e1fa1c47"
      },
      "outputs": [
        {
          "data": {
            "text/plain": [
              "array([[1., 2., 3.],\n",
              "       [1., 2., 3.]])"
            ]
          },
          "execution_count": 70,
          "metadata": {},
          "output_type": "execute_result"
        }
      ],
      "source": [
        "a1 / ones"
      ]
    },
    {
      "cell_type": "code",
      "execution_count": null,
      "id": "c7d67a78",
      "metadata": {
        "id": "c7d67a78",
        "outputId": "57c4bcec-2727-4177-d904-53dd5b4b7879"
      },
      "outputs": [
        {
          "data": {
            "text/plain": [
              "array([[1.  , 1.  , 1.  ],\n",
              "       [4.1 , 2.85, 2.  ]])"
            ]
          },
          "execution_count": 71,
          "metadata": {},
          "output_type": "execute_result"
        }
      ],
      "source": [
        "a2 / a1"
      ]
    },
    {
      "cell_type": "code",
      "execution_count": null,
      "id": "93c1b2f0",
      "metadata": {
        "id": "93c1b2f0",
        "outputId": "02232364-ad18-45bd-de60-5dfd7063606b"
      },
      "outputs": [
        {
          "data": {
            "text/plain": [
              "array([[1., 1., 1.],\n",
              "       [4., 2., 2.]])"
            ]
          },
          "execution_count": 74,
          "metadata": {},
          "output_type": "execute_result"
        }
      ],
      "source": [
        "# Floor Division removes the decimals(Rounds Down)\n",
        "a2 // a1"
      ]
    },
    {
      "cell_type": "code",
      "execution_count": null,
      "id": "d0714e95",
      "metadata": {
        "id": "d0714e95",
        "outputId": "5202c0f1-eb26-4970-b891-4e15b172f5ed"
      },
      "outputs": [
        {
          "data": {
            "text/plain": [
              "array([[ 1.  ,  4.  ,  9.  ],\n",
              "       [16.81, 32.49, 36.  ]])"
            ]
          },
          "execution_count": 75,
          "metadata": {},
          "output_type": "execute_result"
        }
      ],
      "source": [
        "a2 ** 2"
      ]
    },
    {
      "cell_type": "code",
      "execution_count": null,
      "id": "38ec90ef",
      "metadata": {
        "id": "38ec90ef",
        "outputId": "5be96086-a551-416f-a6f3-5189c37e2a30"
      },
      "outputs": [
        {
          "data": {
            "text/plain": [
              "array([1, 0, 1])"
            ]
          },
          "execution_count": 76,
          "metadata": {},
          "output_type": "execute_result"
        }
      ],
      "source": [
        "a1 % 2"
      ]
    },
    {
      "cell_type": "code",
      "execution_count": null,
      "id": "fb43cbe3",
      "metadata": {
        "id": "fb43cbe3",
        "outputId": "a8b744da-4d58-4125-c5c1-7767bf445de0"
      },
      "outputs": [
        {
          "data": {
            "text/plain": [
              "array([0.5, 1. , 1.5])"
            ]
          },
          "execution_count": 77,
          "metadata": {},
          "output_type": "execute_result"
        }
      ],
      "source": [
        "a1 / 2"
      ]
    },
    {
      "cell_type": "code",
      "execution_count": null,
      "id": "38a57099",
      "metadata": {
        "id": "38a57099",
        "outputId": "34201de6-4d28-442f-a930-be612f0ac31e"
      },
      "outputs": [
        {
          "data": {
            "text/plain": [
              "array([[1. , 0. , 1. ],\n",
              "       [0.1, 1.7, 0. ]])"
            ]
          },
          "execution_count": 78,
          "metadata": {},
          "output_type": "execute_result"
        }
      ],
      "source": [
        "a2 % 2"
      ]
    },
    {
      "cell_type": "code",
      "execution_count": null,
      "id": "655960bb",
      "metadata": {
        "id": "655960bb",
        "outputId": "63f5de07-a06a-4f40-fb59-09db7841a0f7"
      },
      "outputs": [
        {
          "data": {
            "text/plain": [
              "array([[0.        , 0.69314718, 1.09861229],\n",
              "       [1.41098697, 1.74046617, 1.79175947]])"
            ]
          },
          "execution_count": 79,
          "metadata": {},
          "output_type": "execute_result"
        }
      ],
      "source": [
        "np.log(a2)"
      ]
    },
    {
      "cell_type": "code",
      "execution_count": null,
      "id": "aeaa69c9",
      "metadata": {
        "id": "aeaa69c9",
        "outputId": "30ad4f01-6bc6-457f-e0cb-f0ebd387cb9e"
      },
      "outputs": [
        {
          "data": {
            "text/plain": [
              "array([[  2.71828183,   7.3890561 ,  20.08553692],\n",
              "       [ 60.3402876 , 298.86740097, 403.42879349]])"
            ]
          },
          "execution_count": 80,
          "metadata": {},
          "output_type": "execute_result"
        }
      ],
      "source": [
        "np.exp(a2)"
      ]
    },
    {
      "cell_type": "markdown",
      "id": "0a5218ef",
      "metadata": {
        "id": "0a5218ef"
      },
      "source": [
        "### Broadcasting\n",
        "\n",
        "- What is broadcasting?\n",
        "    - Broadcasting is a feature of NumPy which performs an operation across multiple dimensions of data without replicating the data. This saves time and space. For example, if you have a 3x3 array (A) and want to add a 1x3 array (B), NumPy will add the row of (B) to every row of (A).\n",
        "\n",
        "- Rules of Broadcasting\n",
        "    1. If the two arrays differ in their number of dimensions, the shape of the one with fewer dimensions is padded with ones on its leading (left) side.\n",
        "    2. If the shape of the two arrays does not match in any dimension, the array with shape equal to 1 in that dimension is stretched to match the other shape.\n",
        "    3. If in any dimension the sizes disagree and neither is equal to 1, an error is raised.\n",
        "    \n",
        "    \n",
        "**The broadcasting rule:**\n",
        "In order to broadcast, the size of the trailing axes for both arrays in an operation must be either the same size or one of them must be one."
      ]
    },
    {
      "cell_type": "markdown",
      "id": "a5ef9623",
      "metadata": {
        "id": "a5ef9623"
      },
      "source": [
        "### Aggregation \n",
        "Equals performing the same operation on a number of things"
      ]
    },
    {
      "cell_type": "code",
      "execution_count": null,
      "id": "0c2cb6cb",
      "metadata": {
        "id": "0c2cb6cb",
        "outputId": "70ddaf90-b2cb-4ba6-fab5-9491c7f316e5"
      },
      "outputs": [
        {
          "data": {
            "text/plain": [
              "list"
            ]
          },
          "execution_count": 9,
          "metadata": {},
          "output_type": "execute_result"
        }
      ],
      "source": [
        "listy_list = [1, 2, 3]\n",
        "type(listy_list)"
      ]
    },
    {
      "cell_type": "code",
      "execution_count": null,
      "id": "548ddbaf",
      "metadata": {
        "id": "548ddbaf",
        "outputId": "4971378b-7fa2-4b7a-b8b5-2846d61a34f0"
      },
      "outputs": [
        {
          "data": {
            "text/plain": [
              "6"
            ]
          },
          "execution_count": 10,
          "metadata": {},
          "output_type": "execute_result"
        }
      ],
      "source": [
        "sum(listy_list)"
      ]
    },
    {
      "cell_type": "code",
      "execution_count": null,
      "id": "0af4e0c1",
      "metadata": {
        "id": "0af4e0c1",
        "outputId": "6ef294d0-1a9b-4eb7-d7ae-1fed518d8381"
      },
      "outputs": [
        {
          "data": {
            "text/plain": [
              "array([1, 2, 3])"
            ]
          },
          "execution_count": 11,
          "metadata": {},
          "output_type": "execute_result"
        }
      ],
      "source": [
        "a1"
      ]
    },
    {
      "cell_type": "code",
      "execution_count": null,
      "id": "b0a606da",
      "metadata": {
        "id": "b0a606da",
        "outputId": "20f4dbe7-9cd6-4168-f2d4-161dc1e27887"
      },
      "outputs": [
        {
          "data": {
            "text/plain": [
              "numpy.ndarray"
            ]
          },
          "execution_count": 12,
          "metadata": {},
          "output_type": "execute_result"
        }
      ],
      "source": [
        "type(a1)"
      ]
    },
    {
      "cell_type": "code",
      "execution_count": null,
      "id": "55e05210",
      "metadata": {
        "id": "55e05210",
        "outputId": "7f5f9e14-2744-447c-9a9a-b7891530e833"
      },
      "outputs": [
        {
          "data": {
            "text/plain": [
              "6"
            ]
          },
          "execution_count": 13,
          "metadata": {},
          "output_type": "execute_result"
        }
      ],
      "source": [
        "sum(a1)"
      ]
    },
    {
      "cell_type": "code",
      "execution_count": null,
      "id": "c7c2e56b",
      "metadata": {
        "id": "c7c2e56b",
        "outputId": "5f83055b-da62-4c2c-be38-df43c051dd70"
      },
      "outputs": [
        {
          "data": {
            "text/plain": [
              "6"
            ]
          },
          "execution_count": 14,
          "metadata": {},
          "output_type": "execute_result"
        }
      ],
      "source": [
        "np.sum(a1)"
      ]
    },
    {
      "cell_type": "markdown",
      "id": "de895336",
      "metadata": {
        "id": "de895336"
      },
      "source": [
        "Use Python's methods (`sum()`) on Python DataTypes and use \n",
        "Numpy's methods on Numpy arrays (`np.sum()`)"
      ]
    },
    {
      "cell_type": "code",
      "execution_count": null,
      "id": "bb35382f",
      "metadata": {
        "id": "bb35382f",
        "outputId": "159bdcfe-8bdb-43e7-9fa6-48be387b2346"
      },
      "outputs": [
        {
          "data": {
            "text/plain": [
              "100000"
            ]
          },
          "execution_count": 16,
          "metadata": {},
          "output_type": "execute_result"
        }
      ],
      "source": [
        "# Create a massive NumPy array\n",
        "massive_array = np.random.random(100000)\n",
        "massive_array.size"
      ]
    },
    {
      "cell_type": "code",
      "execution_count": null,
      "id": "459673a4",
      "metadata": {
        "id": "459673a4",
        "outputId": "c9227b5c-801a-4c64-dd66-35ff56466e3a"
      },
      "outputs": [
        {
          "data": {
            "text/plain": [
              "array([0.21082108, 0.71196951, 0.17794426, 0.02989646, 0.42834115,\n",
              "       0.08681385, 0.65467269, 0.85063633, 0.29146146, 0.64205643])"
            ]
          },
          "execution_count": 20,
          "metadata": {},
          "output_type": "execute_result"
        }
      ],
      "source": [
        "massive_array[:10]"
      ]
    },
    {
      "cell_type": "code",
      "execution_count": null,
      "id": "d2d464fc",
      "metadata": {
        "id": "d2d464fc",
        "outputId": "c0a149d1-4958-450f-d883-b20284d2da8c"
      },
      "outputs": [
        {
          "name": "stdout",
          "output_type": "stream",
          "text": [
            "3.34 ms ± 38.8 µs per loop (mean ± std. dev. of 7 runs, 100 loops each)\n",
            "19 µs ± 29.9 ns per loop (mean ± std. dev. of 7 runs, 100,000 loops each)\n"
          ]
        }
      ],
      "source": [
        "%timeit sum(massive_array) #Pythons sum()\n",
        "%timeit np.sum(massive_array) #NumPys sum()"
      ]
    },
    {
      "cell_type": "code",
      "execution_count": null,
      "id": "0ac80646",
      "metadata": {
        "id": "0ac80646",
        "outputId": "473fde67-6430-44ba-f6c3-e4dedb9cadf9"
      },
      "outputs": [
        {
          "data": {
            "text/plain": [
              "3.6333333333333333"
            ]
          },
          "execution_count": 24,
          "metadata": {},
          "output_type": "execute_result"
        }
      ],
      "source": [
        "np.mean(a2)"
      ]
    },
    {
      "cell_type": "code",
      "execution_count": null,
      "id": "34313b71",
      "metadata": {
        "id": "34313b71",
        "outputId": "536f990c-9472-48a8-dc41-d59e72475286"
      },
      "outputs": [
        {
          "data": {
            "text/plain": [
              "6.0"
            ]
          },
          "execution_count": 25,
          "metadata": {},
          "output_type": "execute_result"
        }
      ],
      "source": [
        "np.max(a2)"
      ]
    },
    {
      "cell_type": "code",
      "execution_count": null,
      "id": "8a81980b",
      "metadata": {
        "id": "8a81980b",
        "outputId": "156c032c-252f-4e33-bd3a-63435ad3731a"
      },
      "outputs": [
        {
          "data": {
            "text/plain": [
              "1.0"
            ]
          },
          "execution_count": 26,
          "metadata": {},
          "output_type": "execute_result"
        }
      ],
      "source": [
        "np.min(a2)"
      ]
    },
    {
      "cell_type": "code",
      "execution_count": null,
      "id": "391d78dc",
      "metadata": {
        "id": "391d78dc",
        "outputId": "77cdb33f-6eda-4663-b366-a4f3a742f0a4"
      },
      "outputs": [
        {
          "data": {
            "text/plain": [
              "1.829996964174774"
            ]
          },
          "execution_count": 32,
          "metadata": {},
          "output_type": "execute_result"
        }
      ],
      "source": [
        "#Standard deviation = a measure of how spread out a group of numbers from the mean \n",
        "np.std(a2)"
      ]
    },
    {
      "cell_type": "code",
      "execution_count": null,
      "id": "9d36ebe7",
      "metadata": {
        "id": "9d36ebe7",
        "outputId": "8307f229-2742-4ab3-8d19-d644df68b505"
      },
      "outputs": [
        {
          "data": {
            "text/plain": [
              "3.348888888888889"
            ]
          },
          "execution_count": 30,
          "metadata": {},
          "output_type": "execute_result"
        }
      ],
      "source": [
        "#Variance = measure of the average degree to which each number is different to the mean.\n",
        "#Higher Variance = wider range of numbers\n",
        "#Lower Variance = lower range of numbers \n",
        "np.var(a2)"
      ]
    },
    {
      "cell_type": "code",
      "execution_count": null,
      "id": "8c450a7c",
      "metadata": {
        "id": "8c450a7c",
        "outputId": "e1028f4d-8689-4a9c-ed3f-1ba895437331"
      },
      "outputs": [
        {
          "data": {
            "text/plain": [
              "1.829996964174774"
            ]
          },
          "execution_count": 33,
          "metadata": {},
          "output_type": "execute_result"
        }
      ],
      "source": [
        "#Standard Deviation = Squareroot of variance\n",
        "np.sqrt(np.var(a2))"
      ]
    },
    {
      "cell_type": "code",
      "execution_count": null,
      "id": "fd07f632",
      "metadata": {
        "id": "fd07f632"
      },
      "outputs": [],
      "source": [
        "#Demo of std and var\n",
        "high_var_array = np.array([1, 100, 200, 300, 4000, 5000])\n",
        "low_var_array = np.array([2, 4, 6, 8, 10])"
      ]
    },
    {
      "cell_type": "code",
      "execution_count": null,
      "id": "4f4ce0e1",
      "metadata": {
        "id": "4f4ce0e1",
        "outputId": "f33c597d-b930-4fc0-b55c-74e2d4501579"
      },
      "outputs": [
        {
          "data": {
            "text/plain": [
              "(4296133.472222221, 8.0)"
            ]
          },
          "execution_count": 39,
          "metadata": {},
          "output_type": "execute_result"
        }
      ],
      "source": [
        "np.var(high_var_array), np.var(low_var_array)"
      ]
    },
    {
      "cell_type": "code",
      "execution_count": null,
      "id": "81e23d36",
      "metadata": {
        "id": "81e23d36",
        "outputId": "2f6a3199-a485-4663-fee0-d66c3ccf43c0"
      },
      "outputs": [
        {
          "data": {
            "text/plain": [
              "(2072.711623024829, 2.8284271247461903)"
            ]
          },
          "execution_count": 40,
          "metadata": {},
          "output_type": "execute_result"
        }
      ],
      "source": [
        "np.std(high_var_array), np.std(low_var_array)"
      ]
    },
    {
      "cell_type": "code",
      "execution_count": null,
      "id": "f29da342",
      "metadata": {
        "id": "f29da342",
        "outputId": "2e3aa466-d3b1-44bd-efdf-d587eb8d04cc"
      },
      "outputs": [
        {
          "data": {
            "text/plain": [
              "(1600.1666666666667, 6.0)"
            ]
          },
          "execution_count": 41,
          "metadata": {},
          "output_type": "execute_result"
        }
      ],
      "source": [
        "np.mean(high_var_array), np.mean(low_var_array)"
      ]
    },
    {
      "cell_type": "code",
      "execution_count": null,
      "id": "7b758458",
      "metadata": {
        "id": "7b758458",
        "outputId": "2f4019ae-fe93-4b01-eb16-73dadce2bff9"
      },
      "outputs": [
        {
          "data": {
            "text/plain": [
              "<function matplotlib.pyplot.show(close=None, block=None)>"
            ]
          },
          "execution_count": 15,
          "metadata": {},
          "output_type": "execute_result"
        },
        {
          "data": {
            "image/png": "[encoded data removed]",
            "text/plain": [
              "<Figure size 640x480 with 1 Axes>"
            ]
          },
          "metadata": {},
          "output_type": "display_data"
        }
      ],
      "source": [
        "%matplotlib inline\n",
        "import matplotlib.pyplot as plt\n",
        "plt.hist(high_var_array)\n",
        "plt.show\n"
      ]
    },
    {
      "cell_type": "code",
      "execution_count": null,
      "id": "4edf83b8",
      "metadata": {
        "id": "4edf83b8",
        "outputId": "12754371-26bc-4f7d-90f4-28ae1a32a558"
      },
      "outputs": [
        {
          "data": {
            "text/plain": [
              "<function matplotlib.pyplot.show(close=None, block=None)>"
            ]
          },
          "execution_count": 49,
          "metadata": {},
          "output_type": "execute_result"
        },
        {
          "data": {
            "image/png": "[encoded data removed]",
            "text/plain": [
              "<Figure size 640x480 with 1 Axes>"
            ]
          },
          "metadata": {},
          "output_type": "display_data"
        }
      ],
      "source": [
        "plt.hist(low_var_array)\n",
        "plt.show"
      ]
    },
    {
      "cell_type": "markdown",
      "id": "a680ba61",
      "metadata": {
        "id": "a680ba61"
      },
      "source": [
        "## Reshaping and Transposing"
      ]
    },
    {
      "cell_type": "code",
      "execution_count": null,
      "id": "4387ee17",
      "metadata": {
        "id": "4387ee17",
        "outputId": "a59a6406-c8c5-446e-de97-affa274ee504"
      },
      "outputs": [
        {
          "data": {
            "text/plain": [
              "array([[[ 1,  2,  3],\n",
              "        [ 4,  5,  6],\n",
              "        [ 7,  8,  9]],\n",
              "\n",
              "       [[10, 11, 12],\n",
              "        [13, 14, 15],\n",
              "        [16, 17, 18]]])"
            ]
          },
          "execution_count": 18,
          "metadata": {},
          "output_type": "execute_result"
        }
      ],
      "source": [
        "a3"
      ]
    },
    {
      "cell_type": "code",
      "execution_count": null,
      "id": "a02e8bbb",
      "metadata": {
        "id": "a02e8bbb",
        "outputId": "1edd1c47-234e-4f19-ca98-c8b3cb078510"
      },
      "outputs": [
        {
          "data": {
            "text/plain": [
              "(2, 3, 3)"
            ]
          },
          "execution_count": 19,
          "metadata": {},
          "output_type": "execute_result"
        }
      ],
      "source": [
        "a3.shape"
      ]
    },
    {
      "cell_type": "code",
      "execution_count": null,
      "id": "f52bb16e",
      "metadata": {
        "id": "f52bb16e",
        "outputId": "1a0c6e4e-3119-4f47-804b-b27b797b63f0"
      },
      "outputs": [
        {
          "data": {
            "text/plain": [
              "(2, 3)"
            ]
          },
          "execution_count": 20,
          "metadata": {},
          "output_type": "execute_result"
        }
      ],
      "source": [
        "a2.shape"
      ]
    },
    {
      "cell_type": "code",
      "execution_count": null,
      "id": "6e93a503",
      "metadata": {
        "id": "6e93a503",
        "outputId": "fd6874f4-08e7-435e-e827-d858abd7b4b6"
      },
      "outputs": [
        {
          "data": {
            "text/plain": [
              "(2, 3, 1)"
            ]
          },
          "execution_count": 21,
          "metadata": {},
          "output_type": "execute_result"
        }
      ],
      "source": [
        "a2.reshape(2, 3, 1).shape"
      ]
    },
    {
      "cell_type": "code",
      "execution_count": null,
      "id": "a308eeb8",
      "metadata": {
        "id": "a308eeb8",
        "outputId": "7c78775b-d5da-4127-af27-214285b5362f"
      },
      "outputs": [
        {
          "data": {
            "text/plain": [
              "array([[[1. ],\n",
              "        [2. ],\n",
              "        [3. ]],\n",
              "\n",
              "       [[4.1],\n",
              "        [5.7],\n",
              "        [6. ]]])"
            ]
          },
          "execution_count": 22,
          "metadata": {},
          "output_type": "execute_result"
        }
      ],
      "source": [
        "a2_reshape = a2.reshape(2, 3, 1)\n",
        "a2_reshape"
      ]
    },
    {
      "cell_type": "code",
      "execution_count": null,
      "id": "00b995fc",
      "metadata": {
        "id": "00b995fc",
        "outputId": "260fd092-beb3-4dbf-f89b-88e2e0ee7277"
      },
      "outputs": [
        {
          "data": {
            "text/plain": [
              "array([[[  1. ,   2. ,   3. ],\n",
              "        [  8. ,  10. ,  12. ],\n",
              "        [ 21. ,  24. ,  27. ]],\n",
              "\n",
              "       [[ 41. ,  45.1,  49.2],\n",
              "        [ 74.1,  79.8,  85.5],\n",
              "        [ 96. , 102. , 108. ]]])"
            ]
          },
          "execution_count": 23,
          "metadata": {},
          "output_type": "execute_result"
        }
      ],
      "source": [
        "a2_reshape * a3"
      ]
    },
    {
      "cell_type": "code",
      "execution_count": null,
      "id": "304de90e",
      "metadata": {
        "id": "304de90e",
        "outputId": "dbc366de-bad8-4290-e0fb-02d373f1ee38"
      },
      "outputs": [
        {
          "data": {
            "text/plain": [
              "(2, 3)"
            ]
          },
          "execution_count": 24,
          "metadata": {},
          "output_type": "execute_result"
        }
      ],
      "source": [
        "a2.shape"
      ]
    },
    {
      "cell_type": "code",
      "execution_count": null,
      "id": "40c6d0eb",
      "metadata": {
        "id": "40c6d0eb",
        "outputId": "86f995d6-3dbd-4bbe-96b8-1b4ab797e397"
      },
      "outputs": [
        {
          "data": {
            "text/plain": [
              "array([[1. , 4.1],\n",
              "       [2. , 5.7],\n",
              "       [3. , 6. ]])"
            ]
          },
          "execution_count": 25,
          "metadata": {},
          "output_type": "execute_result"
        }
      ],
      "source": [
        "# Transpose = switches thes axis'\n",
        "a2.T"
      ]
    },
    {
      "cell_type": "code",
      "execution_count": null,
      "id": "47a484e4",
      "metadata": {
        "id": "47a484e4",
        "outputId": "863200d6-907f-49b9-bee2-eafb27e20165"
      },
      "outputs": [
        {
          "data": {
            "text/plain": [
              "(3, 2)"
            ]
          },
          "execution_count": 26,
          "metadata": {},
          "output_type": "execute_result"
        }
      ],
      "source": [
        "a2.T.shape"
      ]
    },
    {
      "cell_type": "code",
      "execution_count": null,
      "id": "ee9803f2",
      "metadata": {
        "id": "ee9803f2",
        "outputId": "ebec89c4-790b-4ced-eb41-848fd8d1086a"
      },
      "outputs": [
        {
          "data": {
            "text/plain": [
              "(2, 3, 3)"
            ]
          },
          "execution_count": 29,
          "metadata": {},
          "output_type": "execute_result"
        }
      ],
      "source": [
        "a3.shape\n"
      ]
    },
    {
      "cell_type": "code",
      "execution_count": null,
      "id": "22b302c2",
      "metadata": {
        "id": "22b302c2",
        "outputId": "5686d7b6-7dba-4677-90b2-58405e7af778"
      },
      "outputs": [
        {
          "data": {
            "text/plain": [
              "array([[[ 1, 10],\n",
              "        [ 4, 13],\n",
              "        [ 7, 16]],\n",
              "\n",
              "       [[ 2, 11],\n",
              "        [ 5, 14],\n",
              "        [ 8, 17]],\n",
              "\n",
              "       [[ 3, 12],\n",
              "        [ 6, 15],\n",
              "        [ 9, 18]]])"
            ]
          },
          "execution_count": 30,
          "metadata": {},
          "output_type": "execute_result"
        }
      ],
      "source": [
        "a3.T"
      ]
    },
    {
      "cell_type": "code",
      "execution_count": null,
      "id": "6b27cf13",
      "metadata": {
        "id": "6b27cf13",
        "outputId": "5d90106a-3d3f-407d-ab90-5e25bbe35a4a"
      },
      "outputs": [
        {
          "data": {
            "text/plain": [
              "(3, 3, 2)"
            ]
          },
          "execution_count": 31,
          "metadata": {},
          "output_type": "execute_result"
        }
      ],
      "source": [
        "a3.T.shape"
      ]
    },
    {
      "cell_type": "markdown",
      "id": "4ca4552a",
      "metadata": {
        "id": "4ca4552a"
      },
      "source": [
        "## Dot Product"
      ]
    },
    {
      "cell_type": "code",
      "execution_count": null,
      "id": "e540f303",
      "metadata": {
        "id": "e540f303",
        "outputId": "f831910b-9d4f-41ce-ddb0-52251bea6cdf"
      },
      "outputs": [
        {
          "data": {
            "text/plain": [
              "array([[5, 0, 3],\n",
              "       [3, 7, 9],\n",
              "       [3, 5, 2],\n",
              "       [4, 7, 6],\n",
              "       [8, 8, 1]])"
            ]
          },
          "execution_count": 33,
          "metadata": {},
          "output_type": "execute_result"
        }
      ],
      "source": [
        "np.random.seed(0)\n",
        "mat1 = np.random.randint(10, size=(5, 3))\n",
        "mat2 = np.random.randint(10, size=(5, 3))\n",
        "\n",
        "mat1"
      ]
    },
    {
      "cell_type": "code",
      "execution_count": null,
      "id": "319d1f00",
      "metadata": {
        "id": "319d1f00",
        "outputId": "235043cd-caaa-4f52-d88f-f9753bcbd8c9"
      },
      "outputs": [
        {
          "data": {
            "text/plain": [
              "array([[6, 7, 7],\n",
              "       [8, 1, 5],\n",
              "       [9, 8, 9],\n",
              "       [4, 3, 0],\n",
              "       [3, 5, 0]])"
            ]
          },
          "execution_count": 34,
          "metadata": {},
          "output_type": "execute_result"
        }
      ],
      "source": [
        "mat2"
      ]
    },
    {
      "cell_type": "code",
      "execution_count": null,
      "id": "e317f324",
      "metadata": {
        "id": "e317f324",
        "outputId": "7ea6904e-43ee-4f38-c9cf-ecd4cf1dd008"
      },
      "outputs": [
        {
          "data": {
            "text/plain": [
              "(5, 3)"
            ]
          },
          "execution_count": 35,
          "metadata": {},
          "output_type": "execute_result"
        }
      ],
      "source": [
        "mat1.shape"
      ]
    },
    {
      "cell_type": "code",
      "execution_count": null,
      "id": "002eb8a9",
      "metadata": {
        "id": "002eb8a9",
        "outputId": "dc0ad275-49bf-445b-db0d-8c203be7dbf6"
      },
      "outputs": [
        {
          "data": {
            "text/plain": [
              "array([[30,  0, 21],\n",
              "       [24,  7, 45],\n",
              "       [27, 40, 18],\n",
              "       [16, 21,  0],\n",
              "       [24, 40,  0]])"
            ]
          },
          "execution_count": 37,
          "metadata": {},
          "output_type": "execute_result"
        }
      ],
      "source": [
        "# Element-wise multiplication\n",
        "mat1 * mat2"
      ]
    },
    {
      "cell_type": "code",
      "execution_count": null,
      "id": "ccffea4f",
      "metadata": {
        "id": "ccffea4f",
        "outputId": "fb9c6ccf-e324-463f-db14-b87c401a8f11"
      },
      "outputs": [
        {
          "ename": "ValueError",
          "evalue": "shapes (5,3) and (5,3) not aligned: 3 (dim 1) != 5 (dim 0)",
          "output_type": "error",
          "traceback": [
            "\u001b[0;31m---------------------------------------------------------------------------\u001b[0m",
            "\u001b[0;31mValueError\u001b[0m                                Traceback (most recent call last)",
            "Cell \u001b[0;32mIn [38], line 1\u001b[0m\n\u001b[0;32m----> 1\u001b[0m \u001b[43mnp\u001b[49m\u001b[38;5;241;43m.\u001b[39;49m\u001b[43mdot\u001b[49m\u001b[43m(\u001b[49m\u001b[43mmat1\u001b[49m\u001b[43m,\u001b[49m\u001b[43m \u001b[49m\u001b[43mmat2\u001b[49m\u001b[43m)\u001b[49m\n",
            "File \u001b[0;32m<__array_function__ internals>:5\u001b[0m, in \u001b[0;36mdot\u001b[0;34m(*args, **kwargs)\u001b[0m\n",
            "\u001b[0;31mValueError\u001b[0m: shapes (5,3) and (5,3) not aligned: 3 (dim 1) != 5 (dim 0)"
          ]
        }
      ],
      "source": [
        "np.dot(mat1, mat2)"
      ]
    },
    {
      "cell_type": "code",
      "execution_count": null,
      "id": "58369214",
      "metadata": {
        "id": "58369214",
        "outputId": "b361b17e-47ba-4dcf-ee7c-4ea6bb846533"
      },
      "outputs": [
        {
          "data": {
            "text/plain": [
              "array([[5, 3, 3, 4, 8],\n",
              "       [0, 7, 5, 7, 8],\n",
              "       [3, 9, 2, 6, 1]])"
            ]
          },
          "execution_count": 39,
          "metadata": {},
          "output_type": "execute_result"
        }
      ],
      "source": [
        "mat1.T"
      ]
    },
    {
      "cell_type": "code",
      "execution_count": null,
      "id": "fe1e93dd",
      "metadata": {
        "id": "fe1e93dd",
        "outputId": "aff0676e-98ec-4661-9ae0-3d1779404eb7"
      },
      "outputs": [
        {
          "data": {
            "text/plain": [
              "(3, 5)"
            ]
          },
          "execution_count": 40,
          "metadata": {},
          "output_type": "execute_result"
        }
      ],
      "source": [
        "mat1.T.shape"
      ]
    },
    {
      "cell_type": "code",
      "execution_count": null,
      "id": "fc33f058",
      "metadata": {
        "id": "fc33f058",
        "outputId": "c0a23c4c-8109-453c-ef6a-65709d447c9a"
      },
      "outputs": [
        {
          "data": {
            "text/plain": [
              "(5, 3)"
            ]
          },
          "execution_count": 41,
          "metadata": {},
          "output_type": "execute_result"
        }
      ],
      "source": [
        "mat2.shape"
      ]
    },
    {
      "cell_type": "code",
      "execution_count": null,
      "id": "95a3f957",
      "metadata": {
        "id": "95a3f957",
        "outputId": "582d8e61-5e94-4189-9b20-84b3d21f1fa2"
      },
      "outputs": [
        {
          "data": {
            "text/plain": [
              "(5, 3)"
            ]
          },
          "execution_count": 42,
          "metadata": {},
          "output_type": "execute_result"
        }
      ],
      "source": [
        "mat1.shape"
      ]
    },
    {
      "cell_type": "code",
      "execution_count": null,
      "id": "a01252d8",
      "metadata": {
        "id": "a01252d8",
        "outputId": "6a0242ad-4f59-41ce-b340-f2760f507fed"
      },
      "outputs": [
        {
          "data": {
            "text/plain": [
              "(3, 5)"
            ]
          },
          "execution_count": 43,
          "metadata": {},
          "output_type": "execute_result"
        }
      ],
      "source": [
        "mat2.T.shape"
      ]
    },
    {
      "cell_type": "code",
      "execution_count": null,
      "id": "a0e249da",
      "metadata": {
        "id": "a0e249da"
      },
      "outputs": [],
      "source": [
        "mat3 = np.dot(mat1, mat2.T)"
      ]
    },
    {
      "cell_type": "code",
      "execution_count": null,
      "id": "742dec54",
      "metadata": {
        "id": "742dec54",
        "outputId": "1cf3b3a8-76f0-4b40-9fa6-03f617936fd3"
      },
      "outputs": [
        {
          "data": {
            "text/plain": [
              "array([[ 51,  55,  72,  20,  15],\n",
              "       [130,  76, 164,  33,  44],\n",
              "       [ 67,  39,  85,  27,  34],\n",
              "       [115,  69, 146,  37,  47],\n",
              "       [111,  77, 145,  56,  64]])"
            ]
          },
          "execution_count": 45,
          "metadata": {},
          "output_type": "execute_result"
        }
      ],
      "source": [
        "mat3"
      ]
    },
    {
      "cell_type": "code",
      "execution_count": null,
      "id": "35e97955",
      "metadata": {
        "id": "35e97955",
        "outputId": "8236f769-c330-40fd-b9c2-c2843988f73c"
      },
      "outputs": [
        {
          "data": {
            "text/plain": [
              "(5, 5)"
            ]
          },
          "execution_count": 46,
          "metadata": {},
          "output_type": "execute_result"
        }
      ],
      "source": [
        "mat3.shape"
      ]
    },
    {
      "cell_type": "markdown",
      "id": "6eb0ecff",
      "metadata": {
        "id": "6eb0ecff"
      },
      "source": [
        "## Dot Product Example (Nut Butter Sales)"
      ]
    },
    {
      "cell_type": "code",
      "execution_count": null,
      "id": "0ab0762f",
      "metadata": {
        "id": "0ab0762f",
        "outputId": "6daa1365-0c5d-458c-cd40-5793c58268fa"
      },
      "outputs": [
        {
          "data": {
            "text/plain": [
              "array([[12, 15,  0],\n",
              "       [ 3,  3,  7],\n",
              "       [ 9, 19, 18],\n",
              "       [ 4,  6, 12],\n",
              "       [ 1,  6,  7]])"
            ]
          },
          "execution_count": 47,
          "metadata": {},
          "output_type": "execute_result"
        }
      ],
      "source": [
        "np.random.seed(0)\n",
        "# number of jars sold. \n",
        "sales_amount = np.random.randint(20, size=(5, 3 ))\n",
        "sales_amount"
      ]
    },
    {
      "cell_type": "code",
      "execution_count": null,
      "id": "4b812b7c",
      "metadata": {
        "id": "4b812b7c",
        "outputId": "2c0ee96f-7013-4077-e280-713352766bab"
      },
      "outputs": [
        {
          "data": {
            "text/html": [
              "<div>\n",
              "<style scoped>\n",
              "    .dataframe tbody tr th:only-of-type {\n",
              "        vertical-align: middle;\n",
              "    }\n",
              "\n",
              "    .dataframe tbody tr th {\n",
              "        vertical-align: top;\n",
              "    }\n",
              "\n",
              "    .dataframe thead th {\n",
              "        text-align: right;\n",
              "    }\n",
              "</style>\n",
              "<table border=\"1\" class=\"dataframe\">\n",
              "  <thead>\n",
              "    <tr style=\"text-align: right;\">\n",
              "      <th></th>\n",
              "      <th>Almond Butter</th>\n",
              "      <th>Peanut Butter</th>\n",
              "      <th>Cashew Butter</th>\n",
              "    </tr>\n",
              "  </thead>\n",
              "  <tbody>\n",
              "    <tr>\n",
              "      <th>Mon</th>\n",
              "      <td>12</td>\n",
              "      <td>15</td>\n",
              "      <td>0</td>\n",
              "    </tr>\n",
              "    <tr>\n",
              "      <th>Tue</th>\n",
              "      <td>3</td>\n",
              "      <td>3</td>\n",
              "      <td>7</td>\n",
              "    </tr>\n",
              "    <tr>\n",
              "      <th>Wed</th>\n",
              "      <td>9</td>\n",
              "      <td>19</td>\n",
              "      <td>18</td>\n",
              "    </tr>\n",
              "    <tr>\n",
              "      <th>Thurs</th>\n",
              "      <td>4</td>\n",
              "      <td>6</td>\n",
              "      <td>12</td>\n",
              "    </tr>\n",
              "    <tr>\n",
              "      <th>Fri</th>\n",
              "      <td>1</td>\n",
              "      <td>6</td>\n",
              "      <td>7</td>\n",
              "    </tr>\n",
              "  </tbody>\n",
              "</table>\n",
              "</div>"
            ],
            "text/plain": [
              "       Almond Butter  Peanut Butter  Cashew Butter\n",
              "Mon               12             15              0\n",
              "Tue                3              3              7\n",
              "Wed                9             19             18\n",
              "Thurs              4              6             12\n",
              "Fri                1              6              7"
            ]
          },
          "execution_count": 55,
          "metadata": {},
          "output_type": "execute_result"
        }
      ],
      "source": [
        "# Create Weekly_sales DataFrame\n",
        "weekly_sales = pd.DataFrame(sales_amount, \n",
        "                           index=[\"Mon\", \"Tue\", \"Wed\", \"Thurs\", \"Fri\"],\n",
        "                           columns=[\"Almond Butter\", \"Peanut Butter\", \"Cashew Butter\"])\n",
        "\n",
        "weekly_sales"
      ]
    },
    {
      "cell_type": "code",
      "execution_count": null,
      "id": "fd31e411",
      "metadata": {
        "id": "fd31e411",
        "outputId": "96438b14-be20-4f98-d04f-7f646f98f7bb"
      },
      "outputs": [
        {
          "data": {
            "text/plain": [
              "array([10,  8, 12])"
            ]
          },
          "execution_count": 56,
          "metadata": {},
          "output_type": "execute_result"
        }
      ],
      "source": [
        "# Create Prices Array\n",
        "prices = np.array([10, 8, 12])\n",
        "prices"
      ]
    },
    {
      "cell_type": "code",
      "execution_count": null,
      "id": "9d653241",
      "metadata": {
        "id": "9d653241"
      },
      "outputs": [],
      "source": [
        "# Create butter_prices DataFrame\n",
        "butter_prices = pd.DataFrame(prices.reshape(1, 3), \n",
        "                            index=[\"Price\"],\n",
        "                            columns=[\"Almond Butter\", \"Peanut Butter\", \"Cashew Butter\"])\n"
      ]
    },
    {
      "cell_type": "code",
      "execution_count": null,
      "id": "feded93d",
      "metadata": {
        "id": "feded93d",
        "outputId": "33b91640-4110-49e4-9b6f-8b124251d337"
      },
      "outputs": [
        {
          "data": {
            "text/html": [
              "<div>\n",
              "<style scoped>\n",
              "    .dataframe tbody tr th:only-of-type {\n",
              "        vertical-align: middle;\n",
              "    }\n",
              "\n",
              "    .dataframe tbody tr th {\n",
              "        vertical-align: top;\n",
              "    }\n",
              "\n",
              "    .dataframe thead th {\n",
              "        text-align: right;\n",
              "    }\n",
              "</style>\n",
              "<table border=\"1\" class=\"dataframe\">\n",
              "  <thead>\n",
              "    <tr style=\"text-align: right;\">\n",
              "      <th></th>\n",
              "      <th>Almond Butter</th>\n",
              "      <th>Peanut Butter</th>\n",
              "      <th>Cashew Butter</th>\n",
              "    </tr>\n",
              "  </thead>\n",
              "  <tbody>\n",
              "    <tr>\n",
              "      <th>Price</th>\n",
              "      <td>10</td>\n",
              "      <td>8</td>\n",
              "      <td>12</td>\n",
              "    </tr>\n",
              "  </tbody>\n",
              "</table>\n",
              "</div>"
            ],
            "text/plain": [
              "       Almond Butter  Peanut Butter  Cashew Butter\n",
              "Price             10              8             12"
            ]
          },
          "execution_count": 62,
          "metadata": {},
          "output_type": "execute_result"
        }
      ],
      "source": [
        "butter_prices"
      ]
    },
    {
      "cell_type": "code",
      "execution_count": null,
      "id": "3abedf97",
      "metadata": {
        "id": "3abedf97",
        "outputId": "a4a584ed-70fd-4886-a8e0-a77e72ed58f7"
      },
      "outputs": [
        {
          "ename": "ValueError",
          "evalue": "shapes (3,) and (5,3) not aligned: 3 (dim 0) != 5 (dim 0)",
          "output_type": "error",
          "traceback": [
            "\u001b[0;31m---------------------------------------------------------------------------\u001b[0m",
            "\u001b[0;31mValueError\u001b[0m                                Traceback (most recent call last)",
            "Cell \u001b[0;32mIn [63], line 1\u001b[0m\n\u001b[0;32m----> 1\u001b[0m total_sales \u001b[38;5;241m=\u001b[39m \u001b[43mprices\u001b[49m\u001b[38;5;241;43m.\u001b[39;49m\u001b[43mdot\u001b[49m\u001b[43m(\u001b[49m\u001b[43msales_amount\u001b[49m\u001b[43m)\u001b[49m\n",
            "\u001b[0;31mValueError\u001b[0m: shapes (3,) and (5,3) not aligned: 3 (dim 0) != 5 (dim 0)"
          ]
        }
      ],
      "source": [
        "total_sales = prices.dot(sales_amount)"
      ]
    },
    {
      "cell_type": "code",
      "execution_count": null,
      "id": "4150c819",
      "metadata": {
        "id": "4150c819",
        "outputId": "51d69099-a5a5-4d8a-9f22-bd5c1b0509f1"
      },
      "outputs": [
        {
          "data": {
            "text/plain": [
              "array([240, 138, 458, 232, 142])"
            ]
          },
          "execution_count": 64,
          "metadata": {},
          "output_type": "execute_result"
        }
      ],
      "source": [
        "# Shapes arent aligned, need to transpose\n",
        "total_sales = prices.dot(sales_amount.T)\n",
        "total_sales"
      ]
    },
    {
      "cell_type": "code",
      "execution_count": null,
      "id": "a35e9ac0",
      "metadata": {
        "id": "a35e9ac0",
        "outputId": "3daa4fcd-8480-411e-d31b-d464f8a37121"
      },
      "outputs": [
        {
          "data": {
            "text/html": [
              "<div>\n",
              "<style scoped>\n",
              "    .dataframe tbody tr th:only-of-type {\n",
              "        vertical-align: middle;\n",
              "    }\n",
              "\n",
              "    .dataframe tbody tr th {\n",
              "        vertical-align: top;\n",
              "    }\n",
              "\n",
              "    .dataframe thead th {\n",
              "        text-align: right;\n",
              "    }\n",
              "</style>\n",
              "<table border=\"1\" class=\"dataframe\">\n",
              "  <thead>\n",
              "    <tr style=\"text-align: right;\">\n",
              "      <th></th>\n",
              "      <th>Mon</th>\n",
              "      <th>Tue</th>\n",
              "      <th>Wed</th>\n",
              "      <th>Thurs</th>\n",
              "      <th>Fri</th>\n",
              "    </tr>\n",
              "  </thead>\n",
              "  <tbody>\n",
              "    <tr>\n",
              "      <th>Price</th>\n",
              "      <td>240</td>\n",
              "      <td>138</td>\n",
              "      <td>458</td>\n",
              "      <td>232</td>\n",
              "      <td>142</td>\n",
              "    </tr>\n",
              "  </tbody>\n",
              "</table>\n",
              "</div>"
            ],
            "text/plain": [
              "       Mon  Tue  Wed  Thurs  Fri\n",
              "Price  240  138  458    232  142"
            ]
          },
          "execution_count": 65,
          "metadata": {},
          "output_type": "execute_result"
        }
      ],
      "source": [
        "# Create Daily_Sales\n",
        "daily_sales = butter_prices.dot(weekly_sales.T)\n",
        "daily_sales"
      ]
    },
    {
      "cell_type": "code",
      "execution_count": null,
      "id": "328cac4b",
      "metadata": {
        "id": "328cac4b",
        "outputId": "ef4fb6c5-f458-466e-b992-5fa9aefe7b88"
      },
      "outputs": [
        {
          "data": {
            "text/html": [
              "<div>\n",
              "<style scoped>\n",
              "    .dataframe tbody tr th:only-of-type {\n",
              "        vertical-align: middle;\n",
              "    }\n",
              "\n",
              "    .dataframe tbody tr th {\n",
              "        vertical-align: top;\n",
              "    }\n",
              "\n",
              "    .dataframe thead th {\n",
              "        text-align: right;\n",
              "    }\n",
              "</style>\n",
              "<table border=\"1\" class=\"dataframe\">\n",
              "  <thead>\n",
              "    <tr style=\"text-align: right;\">\n",
              "      <th></th>\n",
              "      <th>Almond Butter</th>\n",
              "      <th>Peanut Butter</th>\n",
              "      <th>Cashew Butter</th>\n",
              "    </tr>\n",
              "  </thead>\n",
              "  <tbody>\n",
              "    <tr>\n",
              "      <th>Mon</th>\n",
              "      <td>12</td>\n",
              "      <td>15</td>\n",
              "      <td>0</td>\n",
              "    </tr>\n",
              "    <tr>\n",
              "      <th>Tue</th>\n",
              "      <td>3</td>\n",
              "      <td>3</td>\n",
              "      <td>7</td>\n",
              "    </tr>\n",
              "    <tr>\n",
              "      <th>Wed</th>\n",
              "      <td>9</td>\n",
              "      <td>19</td>\n",
              "      <td>18</td>\n",
              "    </tr>\n",
              "    <tr>\n",
              "      <th>Thurs</th>\n",
              "      <td>4</td>\n",
              "      <td>6</td>\n",
              "      <td>12</td>\n",
              "    </tr>\n",
              "    <tr>\n",
              "      <th>Fri</th>\n",
              "      <td>1</td>\n",
              "      <td>6</td>\n",
              "      <td>7</td>\n",
              "    </tr>\n",
              "  </tbody>\n",
              "</table>\n",
              "</div>"
            ],
            "text/plain": [
              "       Almond Butter  Peanut Butter  Cashew Butter\n",
              "Mon               12             15              0\n",
              "Tue                3              3              7\n",
              "Wed                9             19             18\n",
              "Thurs              4              6             12\n",
              "Fri                1              6              7"
            ]
          },
          "execution_count": 66,
          "metadata": {},
          "output_type": "execute_result"
        }
      ],
      "source": [
        "weekly_sales"
      ]
    },
    {
      "cell_type": "code",
      "execution_count": null,
      "id": "98fc46df",
      "metadata": {
        "id": "98fc46df",
        "outputId": "4e6f443b-0454-4fa8-f472-67483feda3dc"
      },
      "outputs": [
        {
          "data": {
            "text/html": [
              "<div>\n",
              "<style scoped>\n",
              "    .dataframe tbody tr th:only-of-type {\n",
              "        vertical-align: middle;\n",
              "    }\n",
              "\n",
              "    .dataframe tbody tr th {\n",
              "        vertical-align: top;\n",
              "    }\n",
              "\n",
              "    .dataframe thead th {\n",
              "        text-align: right;\n",
              "    }\n",
              "</style>\n",
              "<table border=\"1\" class=\"dataframe\">\n",
              "  <thead>\n",
              "    <tr style=\"text-align: right;\">\n",
              "      <th></th>\n",
              "      <th>Almond Butter</th>\n",
              "      <th>Peanut Butter</th>\n",
              "      <th>Cashew Butter</th>\n",
              "      <th>Total ($)</th>\n",
              "    </tr>\n",
              "  </thead>\n",
              "  <tbody>\n",
              "    <tr>\n",
              "      <th>Mon</th>\n",
              "      <td>12</td>\n",
              "      <td>15</td>\n",
              "      <td>0</td>\n",
              "      <td>240</td>\n",
              "    </tr>\n",
              "    <tr>\n",
              "      <th>Tue</th>\n",
              "      <td>3</td>\n",
              "      <td>3</td>\n",
              "      <td>7</td>\n",
              "      <td>138</td>\n",
              "    </tr>\n",
              "    <tr>\n",
              "      <th>Wed</th>\n",
              "      <td>9</td>\n",
              "      <td>19</td>\n",
              "      <td>18</td>\n",
              "      <td>458</td>\n",
              "    </tr>\n",
              "    <tr>\n",
              "      <th>Thurs</th>\n",
              "      <td>4</td>\n",
              "      <td>6</td>\n",
              "      <td>12</td>\n",
              "      <td>232</td>\n",
              "    </tr>\n",
              "    <tr>\n",
              "      <th>Fri</th>\n",
              "      <td>1</td>\n",
              "      <td>6</td>\n",
              "      <td>7</td>\n",
              "      <td>142</td>\n",
              "    </tr>\n",
              "  </tbody>\n",
              "</table>\n",
              "</div>"
            ],
            "text/plain": [
              "       Almond Butter  Peanut Butter  Cashew Butter  Total ($)\n",
              "Mon               12             15              0        240\n",
              "Tue                3              3              7        138\n",
              "Wed                9             19             18        458\n",
              "Thurs              4              6             12        232\n",
              "Fri                1              6              7        142"
            ]
          },
          "execution_count": 67,
          "metadata": {},
          "output_type": "execute_result"
        }
      ],
      "source": [
        "weekly_sales[\"Total ($)\"] = daily_sales.T\n",
        "weekly_sales"
      ]
    },
    {
      "cell_type": "markdown",
      "id": "2bac9ecf",
      "metadata": {
        "id": "2bac9ecf"
      },
      "source": [
        "## Comparison Operators "
      ]
    },
    {
      "cell_type": "code",
      "execution_count": null,
      "id": "64b67eef",
      "metadata": {
        "id": "64b67eef",
        "outputId": "131e7d62-7abb-431f-eca3-6589bd62e64b"
      },
      "outputs": [
        {
          "data": {
            "text/plain": [
              "array([1, 2, 3])"
            ]
          },
          "execution_count": 68,
          "metadata": {},
          "output_type": "execute_result"
        }
      ],
      "source": [
        "a1"
      ]
    },
    {
      "cell_type": "code",
      "execution_count": null,
      "id": "af648213",
      "metadata": {
        "id": "af648213",
        "outputId": "acf2a4a4-6cf6-400d-9a93-65da00ea838a"
      },
      "outputs": [
        {
          "data": {
            "text/plain": [
              "array([[1. , 2. , 3. ],\n",
              "       [4.1, 5.7, 6. ]])"
            ]
          },
          "execution_count": 69,
          "metadata": {},
          "output_type": "execute_result"
        }
      ],
      "source": [
        "a2"
      ]
    },
    {
      "cell_type": "code",
      "execution_count": null,
      "id": "8bc8da1b",
      "metadata": {
        "id": "8bc8da1b",
        "outputId": "b6de56c9-2027-4bcc-edee-88b3e0817a9c"
      },
      "outputs": [
        {
          "data": {
            "text/plain": [
              "array([[False, False, False],\n",
              "       [False, False, False]])"
            ]
          },
          "execution_count": 70,
          "metadata": {},
          "output_type": "execute_result"
        }
      ],
      "source": [
        "a1 > a2"
      ]
    },
    {
      "cell_type": "code",
      "execution_count": null,
      "id": "b27196ae",
      "metadata": {
        "id": "b27196ae",
        "outputId": "8d177958-7748-49da-a914-3013fdfb3798"
      },
      "outputs": [
        {
          "data": {
            "text/plain": [
              "array([[ True,  True,  True],\n",
              "       [False, False, False]])"
            ]
          },
          "execution_count": 72,
          "metadata": {},
          "output_type": "execute_result"
        }
      ],
      "source": [
        "bool_array = a1 >= a2\n",
        "bool_array"
      ]
    },
    {
      "cell_type": "code",
      "execution_count": null,
      "id": "762c2eca",
      "metadata": {
        "id": "762c2eca",
        "outputId": "a72a6d0c-7d25-46f5-81e5-523966bf3f65"
      },
      "outputs": [
        {
          "data": {
            "text/plain": [
              "(numpy.ndarray, dtype('bool'))"
            ]
          },
          "execution_count": 73,
          "metadata": {},
          "output_type": "execute_result"
        }
      ],
      "source": [
        "type(bool_array), bool_array.dtype"
      ]
    },
    {
      "cell_type": "markdown",
      "id": "6fa58e09",
      "metadata": {
        "id": "6fa58e09"
      },
      "source": [
        "## Sorting Arrays"
      ]
    },
    {
      "cell_type": "code",
      "execution_count": null,
      "id": "524140d3",
      "metadata": {
        "id": "524140d3",
        "outputId": "900a55de-f8f2-4fdd-e66e-00f155944649"
      },
      "outputs": [
        {
          "data": {
            "text/plain": [
              "array([[6, 4, 0, 0, 1],\n",
              "       [1, 2, 3, 4, 7],\n",
              "       [7, 2, 7, 2, 7]])"
            ]
          },
          "execution_count": 8,
          "metadata": {},
          "output_type": "execute_result"
        }
      ],
      "source": [
        "random_array = np.random.randint(10, size=(3, 5))\n",
        "random_array"
      ]
    },
    {
      "cell_type": "code",
      "execution_count": null,
      "id": "cd104d32",
      "metadata": {
        "id": "cd104d32",
        "outputId": "26296413-672b-46f4-be9e-29468aa66c4e"
      },
      "outputs": [
        {
          "data": {
            "text/plain": [
              "array([[0, 0, 1, 4, 6],\n",
              "       [1, 2, 3, 4, 7],\n",
              "       [2, 2, 7, 7, 7]])"
            ]
          },
          "execution_count": 9,
          "metadata": {},
          "output_type": "execute_result"
        }
      ],
      "source": [
        "np.sort(random_array)"
      ]
    },
    {
      "cell_type": "code",
      "execution_count": null,
      "id": "4615f1ab",
      "metadata": {
        "id": "4615f1ab",
        "outputId": "ff43e17d-306a-4cf9-bbca-9750e20b66be"
      },
      "outputs": [
        {
          "data": {
            "text/plain": [
              "array([[2, 3, 4, 1, 0],\n",
              "       [0, 1, 2, 3, 4],\n",
              "       [1, 3, 0, 2, 4]])"
            ]
          },
          "execution_count": 10,
          "metadata": {},
          "output_type": "execute_result"
        }
      ],
      "source": [
        "np.argsort(random_array) #sorts by the indexes "
      ]
    },
    {
      "cell_type": "code",
      "execution_count": null,
      "id": "c60cc010",
      "metadata": {
        "id": "c60cc010",
        "outputId": "abe9ccda-5585-40cc-f6f0-937786f381ed"
      },
      "outputs": [
        {
          "data": {
            "text/plain": [
              "array([2, 0, 2, 1, 1])"
            ]
          },
          "execution_count": 13,
          "metadata": {},
          "output_type": "execute_result"
        }
      ],
      "source": [
        "np.argmax(random_array, axis=0) #Highest number by index so at position 2 the number is 7. "
      ]
    },
    {
      "cell_type": "markdown",
      "id": "eae99b04",
      "metadata": {
        "id": "eae99b04"
      },
      "source": [
        "## Practical Example"
      ]
    },
    {
      "cell_type": "markdown",
      "id": "4f821195",
      "metadata": {
        "id": "4f821195"
      },
      "source": [
        "<img src=\"images/panda.png\"/>"
      ]
    },
    {
      "cell_type": "code",
      "execution_count": null,
      "id": "45b21808",
      "metadata": {
        "id": "45b21808"
      },
      "outputs": [],
      "source": [
        "from matplotlib.image import imread"
      ]
    },
    {
      "cell_type": "code",
      "execution_count": null,
      "id": "eb927e88",
      "metadata": {
        "id": "eb927e88",
        "outputId": "265a4782-3b2a-4ce7-d9a6-0e3ae14c16e4"
      },
      "outputs": [
        {
          "name": "stdout",
          "output_type": "stream",
          "text": [
            "<class 'numpy.ndarray'>\n"
          ]
        }
      ],
      "source": [
        "panda = imread(\"images/panda.png\")\n",
        "print(type(panda))"
      ]
    },
    {
      "cell_type": "code",
      "execution_count": null,
      "id": "dead388f",
      "metadata": {
        "id": "dead388f",
        "outputId": "275006ca-6f3c-438b-ddc6-530f8b7f42fb"
      },
      "outputs": [
        {
          "data": {
            "text/plain": [
              "(24465000, (2330, 3500, 3), 3)"
            ]
          },
          "execution_count": 22,
          "metadata": {},
          "output_type": "execute_result"
        }
      ],
      "source": [
        "panda.size, panda.shape, panda.ndim"
      ]
    },
    {
      "cell_type": "markdown",
      "id": "6a928c33",
      "metadata": {
        "id": "6a928c33"
      },
      "source": [
        "<img src=\"images/car-photo.png\"/>"
      ]
    },
    {
      "cell_type": "code",
      "execution_count": null,
      "id": "567ffa30",
      "metadata": {
        "id": "567ffa30"
      },
      "outputs": [],
      "source": [
        "car = imread(\"images/car-photo.png\")"
      ]
    },
    {
      "cell_type": "code",
      "execution_count": null,
      "id": "4bed1eb9",
      "metadata": {
        "id": "4bed1eb9",
        "outputId": "10014d4d-a7d1-40b8-c82c-0033880a38f4"
      },
      "outputs": [
        {
          "name": "stdout",
          "output_type": "stream",
          "text": [
            "<class 'numpy.ndarray'>\n"
          ]
        }
      ],
      "source": [
        "print(type(car))"
      ]
    },
    {
      "cell_type": "code",
      "execution_count": null,
      "id": "3f2c9e62",
      "metadata": {
        "id": "3f2c9e62",
        "outputId": "290d7d15-56e9-4ba1-b6ff-9b8af8e6b2e0"
      },
      "outputs": [
        {
          "data": {
            "text/plain": [
              "(991300, (431, 575, 4), 3)"
            ]
          },
          "execution_count": 25,
          "metadata": {},
          "output_type": "execute_result"
        }
      ],
      "source": [
        "car.size, car.shape, car.ndim"
      ]
    },
    {
      "cell_type": "code",
      "execution_count": null,
      "id": "87a26eac",
      "metadata": {
        "id": "87a26eac",
        "outputId": "62e52fdb-3798-4a43-eab4-9ce9b76be382"
      },
      "outputs": [
        {
          "data": {
            "text/plain": [
              "array([[[0.5019608 , 0.50980395, 0.4862745 , 1.        ],\n",
              "        [0.3372549 , 0.34509805, 0.30588236, 1.        ],\n",
              "        [0.20392157, 0.21568628, 0.14901961, 1.        ],\n",
              "        ...,\n",
              "        [0.64705884, 0.7058824 , 0.54901963, 1.        ],\n",
              "        [0.59607846, 0.63529414, 0.45882353, 1.        ],\n",
              "        [0.44705883, 0.47058824, 0.3372549 , 1.        ]]], dtype=float32)"
            ]
          },
          "execution_count": 26,
          "metadata": {},
          "output_type": "execute_result"
        }
      ],
      "source": [
        "car[:1]"
      ]
    },
    {
      "cell_type": "code",
      "execution_count": null,
      "id": "dfa9ced7",
      "metadata": {
        "id": "dfa9ced7"
      },
      "outputs": [],
      "source": []
    }
  ],
  "metadata": {
    "kernelspec": {
      "display_name": "Python 3 (ipykernel)",
      "language": "python",
      "name": "python3"
    },
    "language_info": {
      "codemirror_mode": {
        "name": "ipython",
        "version": 3
      },
      "file_extension": ".py",
      "mimetype": "text/x-python",
      "name": "python",
      "nbconvert_exporter": "python",
      "pygments_lexer": "ipython3",
      "version": "3.9.12"
    },
    "colab": {
      "provenance": [],
      "include_colab_link": true
    }
  },
  "nbformat": 4,
  "nbformat_minor": 5
}